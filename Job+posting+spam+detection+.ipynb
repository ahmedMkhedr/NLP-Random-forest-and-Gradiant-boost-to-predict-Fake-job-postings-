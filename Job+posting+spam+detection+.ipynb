{
 "cells": [
  {
   "cell_type": "code",
   "execution_count": 52,
   "metadata": {
    "collapsed": true
   },
   "outputs": [],
   "source": [
    "import pandas as pd\n",
    "import re\n",
    "import string\n",
    "import nltk\n",
    "pd.set_option('display.max_colwidth', 100)\n",
    "stopwords = nltk.corpus.stopwords.words('english')\n",
    "ps = nltk.PorterStemmer()\n",
    "wn = nltk.WordNetLemmatizer()\n",
    "from sklearn.feature_extraction.text import TfidfVectorizer\n",
    "from sklearn.metrics import precision_recall_fscore_support as score\n",
    "from sklearn.model_selection import train_test_split\n",
    "from sklearn.ensemble import RandomForestClassifier\n",
    "from sklearn import model_selection   \n",
    "from sklearn.model_selection import KFold\n",
    "from sklearn.model_selection import cross_val_score\n",
    "from sklearn.model_selection import train_test_split\n",
    "import warnings\n",
    "warnings.filterwarnings(\"ignore\", category=DeprecationWarning)\n",
    "from sklearn.ensemble import RandomForestClassifier\n",
    "from sklearn.model_selection import GridSearchCV\n",
    "from sklearn.feature_extraction.text import CountVectorizer\n",
    "from sklearn.ensemble import GradientBoostingClassifier"
   ]
  },
  {
   "cell_type": "markdown",
   "metadata": {},
   "source": [
    "### Loading the data and cleaning the data\n"
   ]
  },
  {
   "cell_type": "code",
   "execution_count": 53,
   "metadata": {
    "collapsed": true
   },
   "outputs": [],
   "source": [
    "Job_posting = pd.read_csv(r\"C:\\Users\\fatma\\OneDrive\\Desktop\\Ahmed Project\\ML AHMED\\NLP\\job posting scam\\deceptive-opinion.csv\")\n"
   ]
  },
  {
   "cell_type": "code",
   "execution_count": 54,
   "metadata": {},
   "outputs": [
    {
     "data": {
      "text/html": [
       "<div>\n",
       "<style scoped>\n",
       "    .dataframe tbody tr th:only-of-type {\n",
       "        vertical-align: middle;\n",
       "    }\n",
       "\n",
       "    .dataframe tbody tr th {\n",
       "        vertical-align: top;\n",
       "    }\n",
       "\n",
       "    .dataframe thead th {\n",
       "        text-align: right;\n",
       "    }\n",
       "</style>\n",
       "<table border=\"1\" class=\"dataframe\">\n",
       "  <thead>\n",
       "    <tr style=\"text-align: right;\">\n",
       "      <th></th>\n",
       "      <th>deceptive</th>\n",
       "      <th>hotel</th>\n",
       "      <th>polarity</th>\n",
       "      <th>source</th>\n",
       "      <th>text</th>\n",
       "    </tr>\n",
       "  </thead>\n",
       "  <tbody>\n",
       "    <tr>\n",
       "      <th>0</th>\n",
       "      <td>truthful</td>\n",
       "      <td>conrad</td>\n",
       "      <td>positive</td>\n",
       "      <td>TripAdvisor</td>\n",
       "      <td>We stayed for a one night getaway with family on a thursday. Triple AAA rate of 173 was a steal....</td>\n",
       "    </tr>\n",
       "    <tr>\n",
       "      <th>1</th>\n",
       "      <td>truthful</td>\n",
       "      <td>hyatt</td>\n",
       "      <td>positive</td>\n",
       "      <td>TripAdvisor</td>\n",
       "      <td>Triple A rate with upgrade to view room was less than $200 which also included breakfast voucher...</td>\n",
       "    </tr>\n",
       "    <tr>\n",
       "      <th>2</th>\n",
       "      <td>truthful</td>\n",
       "      <td>hyatt</td>\n",
       "      <td>positive</td>\n",
       "      <td>TripAdvisor</td>\n",
       "      <td>This comes a little late as I'm finally catching up on my reviews from the past several months:)...</td>\n",
       "    </tr>\n",
       "    <tr>\n",
       "      <th>3</th>\n",
       "      <td>truthful</td>\n",
       "      <td>omni</td>\n",
       "      <td>positive</td>\n",
       "      <td>TripAdvisor</td>\n",
       "      <td>The Omni Chicago really delivers on all fronts, from the spaciousness of the rooms to the helpfu...</td>\n",
       "    </tr>\n",
       "    <tr>\n",
       "      <th>4</th>\n",
       "      <td>truthful</td>\n",
       "      <td>hyatt</td>\n",
       "      <td>positive</td>\n",
       "      <td>TripAdvisor</td>\n",
       "      <td>I asked for a high floor away from the elevator and that is what I got. The room was pleasantly ...</td>\n",
       "    </tr>\n",
       "  </tbody>\n",
       "</table>\n",
       "</div>"
      ],
      "text/plain": [
       "  deceptive   hotel  polarity       source  \\\n",
       "0  truthful  conrad  positive  TripAdvisor   \n",
       "1  truthful   hyatt  positive  TripAdvisor   \n",
       "2  truthful   hyatt  positive  TripAdvisor   \n",
       "3  truthful    omni  positive  TripAdvisor   \n",
       "4  truthful   hyatt  positive  TripAdvisor   \n",
       "\n",
       "                                                                                                  text  \n",
       "0  We stayed for a one night getaway with family on a thursday. Triple AAA rate of 173 was a steal....  \n",
       "1  Triple A rate with upgrade to view room was less than $200 which also included breakfast voucher...  \n",
       "2  This comes a little late as I'm finally catching up on my reviews from the past several months:)...  \n",
       "3  The Omni Chicago really delivers on all fronts, from the spaciousness of the rooms to the helpfu...  \n",
       "4  I asked for a high floor away from the elevator and that is what I got. The room was pleasantly ...  "
      ]
     },
     "execution_count": 54,
     "metadata": {},
     "output_type": "execute_result"
    }
   ],
   "source": [
    "Job_posting.head()"
   ]
  },
  {
   "cell_type": "code",
   "execution_count": 55,
   "metadata": {},
   "outputs": [],
   "source": [
    "# remove the extra columns \n",
    "Job_posting=Job_posting.drop(['hotel','polarity','source'], axis=1)\n"
   ]
  },
  {
   "cell_type": "code",
   "execution_count": 56,
   "metadata": {},
   "outputs": [
    {
     "data": {
      "text/html": [
       "<div>\n",
       "<style scoped>\n",
       "    .dataframe tbody tr th:only-of-type {\n",
       "        vertical-align: middle;\n",
       "    }\n",
       "\n",
       "    .dataframe tbody tr th {\n",
       "        vertical-align: top;\n",
       "    }\n",
       "\n",
       "    .dataframe thead th {\n",
       "        text-align: right;\n",
       "    }\n",
       "</style>\n",
       "<table border=\"1\" class=\"dataframe\">\n",
       "  <thead>\n",
       "    <tr style=\"text-align: right;\">\n",
       "      <th></th>\n",
       "      <th>deceptive</th>\n",
       "      <th>text</th>\n",
       "    </tr>\n",
       "  </thead>\n",
       "  <tbody>\n",
       "    <tr>\n",
       "      <th>0</th>\n",
       "      <td>truthful</td>\n",
       "      <td>We stayed for a one night getaway with family on a thursday. Triple AAA rate of 173 was a steal....</td>\n",
       "    </tr>\n",
       "    <tr>\n",
       "      <th>1</th>\n",
       "      <td>truthful</td>\n",
       "      <td>Triple A rate with upgrade to view room was less than $200 which also included breakfast voucher...</td>\n",
       "    </tr>\n",
       "    <tr>\n",
       "      <th>2</th>\n",
       "      <td>truthful</td>\n",
       "      <td>This comes a little late as I'm finally catching up on my reviews from the past several months:)...</td>\n",
       "    </tr>\n",
       "    <tr>\n",
       "      <th>3</th>\n",
       "      <td>truthful</td>\n",
       "      <td>The Omni Chicago really delivers on all fronts, from the spaciousness of the rooms to the helpfu...</td>\n",
       "    </tr>\n",
       "    <tr>\n",
       "      <th>4</th>\n",
       "      <td>truthful</td>\n",
       "      <td>I asked for a high floor away from the elevator and that is what I got. The room was pleasantly ...</td>\n",
       "    </tr>\n",
       "  </tbody>\n",
       "</table>\n",
       "</div>"
      ],
      "text/plain": [
       "  deceptive  \\\n",
       "0  truthful   \n",
       "1  truthful   \n",
       "2  truthful   \n",
       "3  truthful   \n",
       "4  truthful   \n",
       "\n",
       "                                                                                                  text  \n",
       "0  We stayed for a one night getaway with family on a thursday. Triple AAA rate of 173 was a steal....  \n",
       "1  Triple A rate with upgrade to view room was less than $200 which also included breakfast voucher...  \n",
       "2  This comes a little late as I'm finally catching up on my reviews from the past several months:)...  \n",
       "3  The Omni Chicago really delivers on all fronts, from the spaciousness of the rooms to the helpfu...  \n",
       "4  I asked for a high floor away from the elevator and that is what I got. The room was pleasantly ...  "
      ]
     },
     "execution_count": 56,
     "metadata": {},
     "output_type": "execute_result"
    }
   ],
   "source": [
    "Job_posting.head()"
   ]
  },
  {
   "cell_type": "markdown",
   "metadata": {},
   "source": [
    "### Feature engneering "
   ]
  },
  {
   "cell_type": "code",
   "execution_count": 57,
   "metadata": {},
   "outputs": [
    {
     "name": "stdout",
     "output_type": "stream",
     "text": [
      "Youtube data has 1600 rows and 2 columns\n"
     ]
    }
   ],
   "source": [
    "print(\"Youtube data has {} rows and {} columns\".format(len(Job_posting), len(Job_posting.columns)))"
   ]
  },
  {
   "cell_type": "code",
   "execution_count": 58,
   "metadata": {},
   "outputs": [
    {
     "name": "stdout",
     "output_type": "stream",
     "text": [
      "Out of 1600 rows, 800 are scam , 800 are not scam\n"
     ]
    }
   ],
   "source": [
    "print(\"Out of {} rows, {} are scam , {} are not scam\".format(len(Job_posting),\n",
    "                                                       len(Job_posting[Job_posting['deceptive']=='truthful']),\n",
    "                                                       len(Job_posting[Job_posting['deceptive']=='deceptive'])))"
   ]
  },
  {
   "cell_type": "code",
   "execution_count": 59,
   "metadata": {},
   "outputs": [
    {
     "data": {
      "text/html": [
       "<div>\n",
       "<style scoped>\n",
       "    .dataframe tbody tr th:only-of-type {\n",
       "        vertical-align: middle;\n",
       "    }\n",
       "\n",
       "    .dataframe tbody tr th {\n",
       "        vertical-align: top;\n",
       "    }\n",
       "\n",
       "    .dataframe thead th {\n",
       "        text-align: right;\n",
       "    }\n",
       "</style>\n",
       "<table border=\"1\" class=\"dataframe\">\n",
       "  <thead>\n",
       "    <tr style=\"text-align: right;\">\n",
       "      <th></th>\n",
       "      <th>deceptive</th>\n",
       "      <th>text</th>\n",
       "      <th>punct%</th>\n",
       "    </tr>\n",
       "  </thead>\n",
       "  <tbody>\n",
       "    <tr>\n",
       "      <th>0</th>\n",
       "      <td>truthful</td>\n",
       "      <td>We stayed for a one night getaway with family on a thursday. Triple AAA rate of 173 was a steal....</td>\n",
       "      <td>3.9</td>\n",
       "    </tr>\n",
       "    <tr>\n",
       "      <th>1</th>\n",
       "      <td>truthful</td>\n",
       "      <td>Triple A rate with upgrade to view room was less than $200 which also included breakfast voucher...</td>\n",
       "      <td>4.6</td>\n",
       "    </tr>\n",
       "    <tr>\n",
       "      <th>2</th>\n",
       "      <td>truthful</td>\n",
       "      <td>This comes a little late as I'm finally catching up on my reviews from the past several months:)...</td>\n",
       "      <td>3.1</td>\n",
       "    </tr>\n",
       "    <tr>\n",
       "      <th>3</th>\n",
       "      <td>truthful</td>\n",
       "      <td>The Omni Chicago really delivers on all fronts, from the spaciousness of the rooms to the helpfu...</td>\n",
       "      <td>2.9</td>\n",
       "    </tr>\n",
       "    <tr>\n",
       "      <th>4</th>\n",
       "      <td>truthful</td>\n",
       "      <td>I asked for a high floor away from the elevator and that is what I got. The room was pleasantly ...</td>\n",
       "      <td>2.2</td>\n",
       "    </tr>\n",
       "  </tbody>\n",
       "</table>\n",
       "</div>"
      ],
      "text/plain": [
       "  deceptive  \\\n",
       "0  truthful   \n",
       "1  truthful   \n",
       "2  truthful   \n",
       "3  truthful   \n",
       "4  truthful   \n",
       "\n",
       "                                                                                                  text  \\\n",
       "0  We stayed for a one night getaway with family on a thursday. Triple AAA rate of 173 was a steal....   \n",
       "1  Triple A rate with upgrade to view room was less than $200 which also included breakfast voucher...   \n",
       "2  This comes a little late as I'm finally catching up on my reviews from the past several months:)...   \n",
       "3  The Omni Chicago really delivers on all fronts, from the spaciousness of the rooms to the helpfu...   \n",
       "4  I asked for a high floor away from the elevator and that is what I got. The room was pleasantly ...   \n",
       "\n",
       "   punct%  \n",
       "0     3.9  \n",
       "1     4.6  \n",
       "2     3.1  \n",
       "3     2.9  \n",
       "4     2.2  "
      ]
     },
     "execution_count": 59,
     "metadata": {},
     "output_type": "execute_result"
    }
   ],
   "source": [
    "# Measure the % of punctuation\n",
    "def punct_count(text):\n",
    "    count = sum([1 for char in text if char in string.punctuation])\n",
    "    return round(count/(len(text) - text.count(\" \")), 3)*100\n",
    "\n",
    "Job_posting['punct%'] = Job_posting['text'].apply(lambda x: punct_count(x))\n",
    "\n",
    "Job_posting.head()"
   ]
  },
  {
   "cell_type": "code",
   "execution_count": 60,
   "metadata": {},
   "outputs": [
    {
     "data": {
      "text/html": [
       "<div>\n",
       "<style scoped>\n",
       "    .dataframe tbody tr th:only-of-type {\n",
       "        vertical-align: middle;\n",
       "    }\n",
       "\n",
       "    .dataframe tbody tr th {\n",
       "        vertical-align: top;\n",
       "    }\n",
       "\n",
       "    .dataframe thead th {\n",
       "        text-align: right;\n",
       "    }\n",
       "</style>\n",
       "<table border=\"1\" class=\"dataframe\">\n",
       "  <thead>\n",
       "    <tr style=\"text-align: right;\">\n",
       "      <th></th>\n",
       "      <th>deceptive</th>\n",
       "      <th>text</th>\n",
       "      <th>punct%</th>\n",
       "      <th>body_len</th>\n",
       "    </tr>\n",
       "  </thead>\n",
       "  <tbody>\n",
       "    <tr>\n",
       "      <th>0</th>\n",
       "      <td>truthful</td>\n",
       "      <td>We stayed for a one night getaway with family on a thursday. Triple AAA rate of 173 was a steal....</td>\n",
       "      <td>3.9</td>\n",
       "      <td>467</td>\n",
       "    </tr>\n",
       "    <tr>\n",
       "      <th>1</th>\n",
       "      <td>truthful</td>\n",
       "      <td>Triple A rate with upgrade to view room was less than $200 which also included breakfast voucher...</td>\n",
       "      <td>4.6</td>\n",
       "      <td>241</td>\n",
       "    </tr>\n",
       "    <tr>\n",
       "      <th>2</th>\n",
       "      <td>truthful</td>\n",
       "      <td>This comes a little late as I'm finally catching up on my reviews from the past several months:)...</td>\n",
       "      <td>3.1</td>\n",
       "      <td>897</td>\n",
       "    </tr>\n",
       "    <tr>\n",
       "      <th>3</th>\n",
       "      <td>truthful</td>\n",
       "      <td>The Omni Chicago really delivers on all fronts, from the spaciousness of the rooms to the helpfu...</td>\n",
       "      <td>2.9</td>\n",
       "      <td>580</td>\n",
       "    </tr>\n",
       "    <tr>\n",
       "      <th>4</th>\n",
       "      <td>truthful</td>\n",
       "      <td>I asked for a high floor away from the elevator and that is what I got. The room was pleasantly ...</td>\n",
       "      <td>2.2</td>\n",
       "      <td>312</td>\n",
       "    </tr>\n",
       "  </tbody>\n",
       "</table>\n",
       "</div>"
      ],
      "text/plain": [
       "  deceptive  \\\n",
       "0  truthful   \n",
       "1  truthful   \n",
       "2  truthful   \n",
       "3  truthful   \n",
       "4  truthful   \n",
       "\n",
       "                                                                                                  text  \\\n",
       "0  We stayed for a one night getaway with family on a thursday. Triple AAA rate of 173 was a steal....   \n",
       "1  Triple A rate with upgrade to view room was less than $200 which also included breakfast voucher...   \n",
       "2  This comes a little late as I'm finally catching up on my reviews from the past several months:)...   \n",
       "3  The Omni Chicago really delivers on all fronts, from the spaciousness of the rooms to the helpfu...   \n",
       "4  I asked for a high floor away from the elevator and that is what I got. The room was pleasantly ...   \n",
       "\n",
       "   punct%  body_len  \n",
       "0     3.9       467  \n",
       "1     4.6       241  \n",
       "2     3.1       897  \n",
       "3     2.9       580  \n",
       "4     2.2       312  "
      ]
     },
     "execution_count": 60,
     "metadata": {},
     "output_type": "execute_result"
    }
   ],
   "source": [
    "# Measure the length of the post \n",
    "\n",
    "Job_posting['body_len'] = Job_posting['text'].apply(lambda x: len(x) - x.count(\" \"))\n",
    "\n",
    "Job_posting.head()"
   ]
  },
  {
   "cell_type": "markdown",
   "metadata": {},
   "source": [
    "### Obtaning the plot of punct%\tbody_len and Transform the data"
   ]
  },
  {
   "cell_type": "code",
   "execution_count": 61,
   "metadata": {
    "collapsed": true
   },
   "outputs": [],
   "source": [
    "from matplotlib import pyplot\n",
    "import numpy as np\n",
    "%matplotlib inline"
   ]
  },
  {
   "cell_type": "code",
   "execution_count": 62,
   "metadata": {},
   "outputs": [
    {
     "data": {
      "image/png": "[encoded data removed]",
      "text/plain": [
       "<Figure size 432x288 with 1 Axes>"
      ]
     },
     "metadata": {},
     "output_type": "display_data"
    }
   ],
   "source": [
    "bins = np.linspace(0, 200, 40)\n",
    "\n",
    "pyplot.hist(Job_posting[Job_posting['deceptive']=='deceptive']['body_len'], bins, alpha=0.5, label='spam')\n",
    "pyplot.hist(Job_posting[Job_posting['deceptive']=='truthful']['body_len'], bins, alpha=0.5, label='Not spam')\n",
    "pyplot.legend(loc='upper left')\n",
    "pyplot.show()"
   ]
  },
  {
   "cell_type": "code",
   "execution_count": 63,
   "metadata": {},
   "outputs": [
    {
     "data": {
      "image/png": "[encoded data removed]",
      "text/plain": [
       "<Figure size 432x288 with 1 Axes>"
      ]
     },
     "metadata": {},
     "output_type": "display_data"
    }
   ],
   "source": [
    "pyplot.hist(Job_posting[Job_posting['deceptive']=='deceptive']['punct%'], alpha=0.5, label='spam')\n",
    "pyplot.hist(Job_posting[Job_posting['deceptive']=='truthful']['punct%'], alpha=0.5, label='not spam')\n",
    "pyplot.legend(loc='upper left')\n",
    "pyplot.show()"
   ]
  },
  {
   "cell_type": "code",
   "execution_count": 64,
   "metadata": {},
   "outputs": [
    {
     "data": {
      "image/png": "[encoded data removed]",
      "text/plain": [
       "<Figure size 432x288 with 1 Axes>"
      ]
     },
     "metadata": {},
     "output_type": "display_data"
    },
    {
     "data": {
      "image/png": "[encoded data removed]",
      "text/plain": [
       "<Figure size 432x288 with 1 Axes>"
      ]
     },
     "metadata": {},
     "output_type": "display_data"
    },
    {
     "data": {
      "image/png": "[encoded data removed]",
      "text/plain": [
       "<Figure size 432x288 with 1 Axes>"
      ]
     },
     "metadata": {},
     "output_type": "display_data"
    },
    {
     "data": {
      "image/png": "[encoded data removed]",
      "text/plain": [
       "<Figure size 432x288 with 1 Axes>"
      ]
     },
     "metadata": {},
     "output_type": "display_data"
    },
    {
     "data": {
      "image/png": "[encoded data removed]",
      "text/plain": [
       "<Figure size 432x288 with 1 Axes>"
      ]
     },
     "metadata": {},
     "output_type": "display_data"
    }
   ],
   "source": [
    "for i in [1,2,3,4,5]:\n",
    "    pyplot.hist((Job_posting['punct%'])**(1/i),bins=40)\n",
    "    pyplot.title(\"Tranformation:1/{}\".format(str(i)))\n",
    "    pyplot.show()"
   ]
  },
  {
   "cell_type": "code",
   "execution_count": 65,
   "metadata": {},
   "outputs": [
    {
     "data": {
      "image/png": "[encoded data removed]",
      "text/plain": [
       "<Figure size 432x288 with 1 Axes>"
      ]
     },
     "metadata": {},
     "output_type": "display_data"
    },
    {
     "data": {
      "image/png": "[encoded data removed]",
      "text/plain": [
       "<Figure size 432x288 with 1 Axes>"
      ]
     },
     "metadata": {},
     "output_type": "display_data"
    },
    {
     "data": {
      "image/png": "[encoded data removed]",
      "text/plain": [
       "<Figure size 432x288 with 1 Axes>"
      ]
     },
     "metadata": {},
     "output_type": "display_data"
    },
    {
     "data": {
      "image/png": "[encoded data removed]",
      "text/plain": [
       "<Figure size 432x288 with 1 Axes>"
      ]
     },
     "metadata": {},
     "output_type": "display_data"
    },
    {
     "data": {
      "image/png": "[encoded data removed]",
      "text/plain": [
       "<Figure size 432x288 with 1 Axes>"
      ]
     },
     "metadata": {},
     "output_type": "display_data"
    }
   ],
   "source": [
    "for i in [1,2,3,4,5]:\n",
    "    pyplot.hist((Job_posting['body_len'])**(1/i),bins=40)\n",
    "    pyplot.title(\"Tranformation:1/{}\".format(str(i)))\n",
    "    pyplot.show()    "
   ]
  },
  {
   "cell_type": "code",
   "execution_count": 66,
   "metadata": {
    "collapsed": true
   },
   "outputs": [],
   "source": [
    "# Transform punct%\n",
    "\n",
    "#Job_posting['punct%']=Job_posting['punct%']**(1/2)\n",
    "\n",
    "# Transform body_len\n",
    "\n",
    "Job_posting['body_len']=Job_posting['body_len']**(1/5)"
   ]
  },
  {
   "cell_type": "code",
   "execution_count": 67,
   "metadata": {},
   "outputs": [
    {
     "data": {
      "text/html": [
       "<div>\n",
       "<style scoped>\n",
       "    .dataframe tbody tr th:only-of-type {\n",
       "        vertical-align: middle;\n",
       "    }\n",
       "\n",
       "    .dataframe tbody tr th {\n",
       "        vertical-align: top;\n",
       "    }\n",
       "\n",
       "    .dataframe thead th {\n",
       "        text-align: right;\n",
       "    }\n",
       "</style>\n",
       "<table border=\"1\" class=\"dataframe\">\n",
       "  <thead>\n",
       "    <tr style=\"text-align: right;\">\n",
       "      <th></th>\n",
       "      <th>deceptive</th>\n",
       "      <th>text</th>\n",
       "      <th>punct%</th>\n",
       "      <th>body_len</th>\n",
       "    </tr>\n",
       "  </thead>\n",
       "  <tbody>\n",
       "    <tr>\n",
       "      <th>0</th>\n",
       "      <td>truthful</td>\n",
       "      <td>We stayed for a one night getaway with family on a thursday. Triple AAA rate of 173 was a steal....</td>\n",
       "      <td>3.9</td>\n",
       "      <td>3.418719</td>\n",
       "    </tr>\n",
       "    <tr>\n",
       "      <th>1</th>\n",
       "      <td>truthful</td>\n",
       "      <td>Triple A rate with upgrade to view room was less than $200 which also included breakfast voucher...</td>\n",
       "      <td>4.6</td>\n",
       "      <td>2.995045</td>\n",
       "    </tr>\n",
       "    <tr>\n",
       "      <th>2</th>\n",
       "      <td>truthful</td>\n",
       "      <td>This comes a little late as I'm finally catching up on my reviews from the past several months:)...</td>\n",
       "      <td>3.1</td>\n",
       "      <td>3.895458</td>\n",
       "    </tr>\n",
       "    <tr>\n",
       "      <th>3</th>\n",
       "      <td>truthful</td>\n",
       "      <td>The Omni Chicago really delivers on all fronts, from the spaciousness of the rooms to the helpfu...</td>\n",
       "      <td>2.9</td>\n",
       "      <td>3.570143</td>\n",
       "    </tr>\n",
       "    <tr>\n",
       "      <th>4</th>\n",
       "      <td>truthful</td>\n",
       "      <td>I asked for a high floor away from the elevator and that is what I got. The room was pleasantly ...</td>\n",
       "      <td>2.2</td>\n",
       "      <td>3.153777</td>\n",
       "    </tr>\n",
       "  </tbody>\n",
       "</table>\n",
       "</div>"
      ],
      "text/plain": [
       "  deceptive  \\\n",
       "0  truthful   \n",
       "1  truthful   \n",
       "2  truthful   \n",
       "3  truthful   \n",
       "4  truthful   \n",
       "\n",
       "                                                                                                  text  \\\n",
       "0  We stayed for a one night getaway with family on a thursday. Triple AAA rate of 173 was a steal....   \n",
       "1  Triple A rate with upgrade to view room was less than $200 which also included breakfast voucher...   \n",
       "2  This comes a little late as I'm finally catching up on my reviews from the past several months:)...   \n",
       "3  The Omni Chicago really delivers on all fronts, from the spaciousness of the rooms to the helpfu...   \n",
       "4  I asked for a high floor away from the elevator and that is what I got. The room was pleasantly ...   \n",
       "\n",
       "   punct%  body_len  \n",
       "0     3.9  3.418719  \n",
       "1     4.6  2.995045  \n",
       "2     3.1  3.895458  \n",
       "3     2.9  3.570143  \n",
       "4     2.2  3.153777  "
      ]
     },
     "execution_count": 67,
     "metadata": {},
     "output_type": "execute_result"
    }
   ],
   "source": [
    "Job_posting.head()"
   ]
  },
  {
   "cell_type": "markdown",
   "metadata": {},
   "source": [
    "### USE NLTK to create tokens, remove punctuation and remove stop words"
   ]
  },
  {
   "cell_type": "code",
   "execution_count": 68,
   "metadata": {
    "collapsed": true
   },
   "outputs": [],
   "source": [
    "def text_clean(text):\n",
    "    text = \"\".join([word.lower() for word in text if word not in string.punctuation])\n",
    "    tokens = re.split('\\W+', text)\n",
    "    text = [ps.stem(word) for word in tokens if word not in stopwords]\n",
    "    return text"
   ]
  },
  {
   "cell_type": "code",
   "execution_count": 69,
   "metadata": {},
   "outputs": [
    {
     "data": {
      "text/html": [
       "<div>\n",
       "<style scoped>\n",
       "    .dataframe tbody tr th:only-of-type {\n",
       "        vertical-align: middle;\n",
       "    }\n",
       "\n",
       "    .dataframe tbody tr th {\n",
       "        vertical-align: top;\n",
       "    }\n",
       "\n",
       "    .dataframe thead th {\n",
       "        text-align: right;\n",
       "    }\n",
       "</style>\n",
       "<table border=\"1\" class=\"dataframe\">\n",
       "  <thead>\n",
       "    <tr style=\"text-align: right;\">\n",
       "      <th></th>\n",
       "      <th>body_len</th>\n",
       "      <th>punct%</th>\n",
       "      <th>0</th>\n",
       "      <th>1</th>\n",
       "      <th>2</th>\n",
       "      <th>3</th>\n",
       "      <th>4</th>\n",
       "      <th>5</th>\n",
       "      <th>6</th>\n",
       "      <th>7</th>\n",
       "      <th>...</th>\n",
       "      <th>7645</th>\n",
       "      <th>7646</th>\n",
       "      <th>7647</th>\n",
       "      <th>7648</th>\n",
       "      <th>7649</th>\n",
       "      <th>7650</th>\n",
       "      <th>7651</th>\n",
       "      <th>7652</th>\n",
       "      <th>7653</th>\n",
       "      <th>7654</th>\n",
       "    </tr>\n",
       "  </thead>\n",
       "  <tbody>\n",
       "    <tr>\n",
       "      <th>0</th>\n",
       "      <td>3.418719</td>\n",
       "      <td>3.9</td>\n",
       "      <td>0.026911</td>\n",
       "      <td>0.0</td>\n",
       "      <td>0.0</td>\n",
       "      <td>0.0</td>\n",
       "      <td>0.0</td>\n",
       "      <td>0.0</td>\n",
       "      <td>0.0</td>\n",
       "      <td>0.0</td>\n",
       "      <td>...</td>\n",
       "      <td>0.0</td>\n",
       "      <td>0.0</td>\n",
       "      <td>0.0</td>\n",
       "      <td>0.0</td>\n",
       "      <td>0.0</td>\n",
       "      <td>0.0</td>\n",
       "      <td>0.0</td>\n",
       "      <td>0.0</td>\n",
       "      <td>0.0</td>\n",
       "      <td>0.0</td>\n",
       "    </tr>\n",
       "    <tr>\n",
       "      <th>1</th>\n",
       "      <td>2.995045</td>\n",
       "      <td>4.6</td>\n",
       "      <td>0.036858</td>\n",
       "      <td>0.0</td>\n",
       "      <td>0.0</td>\n",
       "      <td>0.0</td>\n",
       "      <td>0.0</td>\n",
       "      <td>0.0</td>\n",
       "      <td>0.0</td>\n",
       "      <td>0.0</td>\n",
       "      <td>...</td>\n",
       "      <td>0.0</td>\n",
       "      <td>0.0</td>\n",
       "      <td>0.0</td>\n",
       "      <td>0.0</td>\n",
       "      <td>0.0</td>\n",
       "      <td>0.0</td>\n",
       "      <td>0.0</td>\n",
       "      <td>0.0</td>\n",
       "      <td>0.0</td>\n",
       "      <td>0.0</td>\n",
       "    </tr>\n",
       "    <tr>\n",
       "      <th>2</th>\n",
       "      <td>3.895458</td>\n",
       "      <td>3.1</td>\n",
       "      <td>0.021416</td>\n",
       "      <td>0.0</td>\n",
       "      <td>0.0</td>\n",
       "      <td>0.0</td>\n",
       "      <td>0.0</td>\n",
       "      <td>0.0</td>\n",
       "      <td>0.0</td>\n",
       "      <td>0.0</td>\n",
       "      <td>...</td>\n",
       "      <td>0.0</td>\n",
       "      <td>0.0</td>\n",
       "      <td>0.0</td>\n",
       "      <td>0.0</td>\n",
       "      <td>0.0</td>\n",
       "      <td>0.0</td>\n",
       "      <td>0.0</td>\n",
       "      <td>0.0</td>\n",
       "      <td>0.0</td>\n",
       "      <td>0.0</td>\n",
       "    </tr>\n",
       "    <tr>\n",
       "      <th>3</th>\n",
       "      <td>3.570143</td>\n",
       "      <td>2.9</td>\n",
       "      <td>0.027051</td>\n",
       "      <td>0.0</td>\n",
       "      <td>0.0</td>\n",
       "      <td>0.0</td>\n",
       "      <td>0.0</td>\n",
       "      <td>0.0</td>\n",
       "      <td>0.0</td>\n",
       "      <td>0.0</td>\n",
       "      <td>...</td>\n",
       "      <td>0.0</td>\n",
       "      <td>0.0</td>\n",
       "      <td>0.0</td>\n",
       "      <td>0.0</td>\n",
       "      <td>0.0</td>\n",
       "      <td>0.0</td>\n",
       "      <td>0.0</td>\n",
       "      <td>0.0</td>\n",
       "      <td>0.0</td>\n",
       "      <td>0.0</td>\n",
       "    </tr>\n",
       "    <tr>\n",
       "      <th>4</th>\n",
       "      <td>3.153777</td>\n",
       "      <td>2.2</td>\n",
       "      <td>0.047209</td>\n",
       "      <td>0.0</td>\n",
       "      <td>0.0</td>\n",
       "      <td>0.0</td>\n",
       "      <td>0.0</td>\n",
       "      <td>0.0</td>\n",
       "      <td>0.0</td>\n",
       "      <td>0.0</td>\n",
       "      <td>...</td>\n",
       "      <td>0.0</td>\n",
       "      <td>0.0</td>\n",
       "      <td>0.0</td>\n",
       "      <td>0.0</td>\n",
       "      <td>0.0</td>\n",
       "      <td>0.0</td>\n",
       "      <td>0.0</td>\n",
       "      <td>0.0</td>\n",
       "      <td>0.0</td>\n",
       "      <td>0.0</td>\n",
       "    </tr>\n",
       "  </tbody>\n",
       "</table>\n",
       "<p>5 rows × 7657 columns</p>\n",
       "</div>"
      ],
      "text/plain": [
       "   body_len  punct%         0    1    2    3    4    5    6    7  ...   7645  \\\n",
       "0  3.418719     3.9  0.026911  0.0  0.0  0.0  0.0  0.0  0.0  0.0  ...    0.0   \n",
       "1  2.995045     4.6  0.036858  0.0  0.0  0.0  0.0  0.0  0.0  0.0  ...    0.0   \n",
       "2  3.895458     3.1  0.021416  0.0  0.0  0.0  0.0  0.0  0.0  0.0  ...    0.0   \n",
       "3  3.570143     2.9  0.027051  0.0  0.0  0.0  0.0  0.0  0.0  0.0  ...    0.0   \n",
       "4  3.153777     2.2  0.047209  0.0  0.0  0.0  0.0  0.0  0.0  0.0  ...    0.0   \n",
       "\n",
       "   7646  7647  7648  7649  7650  7651  7652  7653  7654  \n",
       "0   0.0   0.0   0.0   0.0   0.0   0.0   0.0   0.0   0.0  \n",
       "1   0.0   0.0   0.0   0.0   0.0   0.0   0.0   0.0   0.0  \n",
       "2   0.0   0.0   0.0   0.0   0.0   0.0   0.0   0.0   0.0  \n",
       "3   0.0   0.0   0.0   0.0   0.0   0.0   0.0   0.0   0.0  \n",
       "4   0.0   0.0   0.0   0.0   0.0   0.0   0.0   0.0   0.0  \n",
       "\n",
       "[5 rows x 7657 columns]"
      ]
     },
     "execution_count": 69,
     "metadata": {},
     "output_type": "execute_result"
    }
   ],
   "source": [
    "# Use TfidfVectorizer to transform the data \n",
    "\n",
    "tfidf_vect = TfidfVectorizer(analyzer=text_clean)\n",
    "X_tfidf = tfidf_vect.fit_transform(Job_posting['text'])\n",
    "\n",
    "\n",
    "X_features = pd.concat([Job_posting['body_len'], Job_posting['punct%'], pd.DataFrame(X_tfidf.toarray())], axis=1)\n",
    "X_features.head()"
   ]
  },
  {
   "cell_type": "code",
   "execution_count": 70,
   "metadata": {},
   "outputs": [
    {
     "data": {
      "text/plain": [
       "array([0.25    , 0.759375, 0.75    , 0.6875  , 0.196875])"
      ]
     },
     "execution_count": 70,
     "metadata": {},
     "output_type": "execute_result"
    }
   ],
   "source": [
    "# try out cross validation to obtian what section of the data produce the vest accuracy \n",
    "rf = RandomForestClassifier(n_jobs=-1)\n",
    "k_fold = KFold(n_splits=5)\n",
    "cross_val_score(rf, X_features, Job_posting['deceptive'], cv=k_fold, scoring='accuracy', n_jobs=-1)"
   ]
  },
  {
   "cell_type": "code",
   "execution_count": 71,
   "metadata": {
    "collapsed": true
   },
   "outputs": [],
   "source": [
    "# Split the data into testing and training \n",
    "X_train, X_test, y_train, y_test = train_test_split(X_features, Job_posting['deceptive'], test_size=0.2)"
   ]
  },
  {
   "cell_type": "code",
   "execution_count": 72,
   "metadata": {
    "collapsed": true
   },
   "outputs": [],
   "source": [
    "# Obtaing the top features in the data\n",
    "\n",
    "rf = RandomForestClassifier(n_estimators=50, max_depth=20, n_jobs=-1)\n",
    "rf_model = rf.fit(X_train, y_train)"
   ]
  },
  {
   "cell_type": "code",
   "execution_count": 73,
   "metadata": {},
   "outputs": [
    {
     "data": {
      "text/plain": [
       "[(0.03494852772214082, 1490),\n",
       " (0.023844538280571603, 'punct%'),\n",
       " (0.022677167602009343, 4150),\n",
       " (0.011944892564986227, 4091),\n",
       " (0.009866965903152915, 3455),\n",
       " (0.009781917842154049, 4068),\n",
       " (0.00959547025061367, 2838),\n",
       " (0.008739438652855392, 1132),\n",
       " (0.008357324574889982, 0),\n",
       " (0.008082089459168615, 5958)]"
      ]
     },
     "execution_count": 73,
     "metadata": {},
     "output_type": "execute_result"
    }
   ],
   "source": [
    "sorted(zip(rf_model.feature_importances_, X_train.columns), reverse=True)[0:10]"
   ]
  },
  {
   "cell_type": "markdown",
   "metadata": {},
   "source": [
    "#### Using random forest and TfidfVectorizer to predict the Spam comments "
   ]
  },
  {
   "cell_type": "code",
   "execution_count": 74,
   "metadata": {
    "collapsed": true
   },
   "outputs": [],
   "source": [
    "# Obtaining precision, recall, accuracy, support\n",
    "y_pred = rf_model.predict(X_test)\n",
    "precision, recall, fscore, support = score(y_test, y_pred, pos_label='deceptive', average='binary')"
   ]
  },
  {
   "cell_type": "code",
   "execution_count": 75,
   "metadata": {},
   "outputs": [
    {
     "name": "stdout",
     "output_type": "stream",
     "text": [
      "Precision: 0.86 / Recall: 0.826 / Accuracy: 0.828\n"
     ]
    }
   ],
   "source": [
    "print('Precision: {} / Recall: {} / Accuracy: {}'.format(round(precision, 3),\n",
    "                                                        round(recall, 3),\n",
    "                                                        round((y_pred==y_test).sum() / len(y_pred),3)))"
   ]
  },
  {
   "cell_type": "markdown",
   "metadata": {},
   "source": [
    "### Using RF, TfidfVectorizer and Grid seach to obtain the tree with the least performace "
   ]
  },
  {
   "cell_type": "code",
   "execution_count": 76,
   "metadata": {
    "collapsed": true
   },
   "outputs": [],
   "source": [
    "def train_RF(n_est, depth):\n",
    "    rf = RandomForestClassifier(n_estimators=n_est, max_depth=depth, n_jobs=-1)\n",
    "    rf_model = rf.fit(X_train, y_train)\n",
    "    y_pred = rf_model.predict(X_test)\n",
    "    precision, recall, fscore, support = score(y_test, y_pred, pos_label='deceptive', average='binary')\n",
    "    print('Est: {} / Depth: {} ---- Precision: {} / Recall: {} / Accuracy: {}'.format(\n",
    "        n_est, depth, round(precision, 3), round(recall, 3),\n",
    "        round((y_pred==y_test).sum() / len(y_pred), 3)))"
   ]
  },
  {
   "cell_type": "code",
   "execution_count": 77,
   "metadata": {},
   "outputs": [
    {
     "name": "stdout",
     "output_type": "stream",
     "text": [
      "Est: 10 / Depth: 10 ---- Precision: 0.884 / Recall: 0.73 / Accuracy: 0.797\n",
      "Est: 10 / Depth: 20 ---- Precision: 0.798 / Recall: 0.775 / Accuracy: 0.766\n",
      "Est: 10 / Depth: 30 ---- Precision: 0.817 / Recall: 0.702 / Accuracy: 0.747\n",
      "Est: 10 / Depth: None ---- Precision: 0.764 / Recall: 0.82 / Accuracy: 0.759\n",
      "Est: 50 / Depth: 10 ---- Precision: 0.893 / Recall: 0.798 / Accuracy: 0.834\n",
      "Est: 50 / Depth: 20 ---- Precision: 0.856 / Recall: 0.837 / Accuracy: 0.831\n",
      "Est: 50 / Depth: 30 ---- Precision: 0.917 / Recall: 0.865 / Accuracy: 0.881\n",
      "Est: 50 / Depth: None ---- Precision: 0.858 / Recall: 0.882 / Accuracy: 0.853\n",
      "Est: 100 / Depth: 10 ---- Precision: 0.885 / Recall: 0.865 / Accuracy: 0.862\n",
      "Est: 100 / Depth: 20 ---- Precision: 0.856 / Recall: 0.837 / Accuracy: 0.831\n",
      "Est: 100 / Depth: 30 ---- Precision: 0.886 / Recall: 0.876 / Accuracy: 0.869\n",
      "Est: 100 / Depth: None ---- Precision: 0.887 / Recall: 0.882 / Accuracy: 0.872\n"
     ]
    }
   ],
   "source": [
    "for n_est in [10, 50, 100]:\n",
    "    for depth in [10, 20, 30, None]:\n",
    "        train_RF(n_est, depth)"
   ]
  },
  {
   "cell_type": "markdown",
   "metadata": {},
   "source": [
    "### Compareing the results of RF with the TfidfVectorizer and the counter vectorized for the top pram combination"
   ]
  },
  {
   "cell_type": "code",
   "execution_count": 78,
   "metadata": {},
   "outputs": [
    {
     "data": {
      "text/html": [
       "<div>\n",
       "<style scoped>\n",
       "    .dataframe tbody tr th:only-of-type {\n",
       "        vertical-align: middle;\n",
       "    }\n",
       "\n",
       "    .dataframe tbody tr th {\n",
       "        vertical-align: top;\n",
       "    }\n",
       "\n",
       "    .dataframe thead th {\n",
       "        text-align: right;\n",
       "    }\n",
       "</style>\n",
       "<table border=\"1\" class=\"dataframe\">\n",
       "  <thead>\n",
       "    <tr style=\"text-align: right;\">\n",
       "      <th></th>\n",
       "      <th>mean_fit_time</th>\n",
       "      <th>mean_score_time</th>\n",
       "      <th>mean_test_score</th>\n",
       "      <th>param_max_depth</th>\n",
       "      <th>param_n_estimators</th>\n",
       "      <th>params</th>\n",
       "      <th>rank_test_score</th>\n",
       "      <th>split0_test_score</th>\n",
       "      <th>split1_test_score</th>\n",
       "      <th>split2_test_score</th>\n",
       "      <th>split3_test_score</th>\n",
       "      <th>split4_test_score</th>\n",
       "      <th>std_fit_time</th>\n",
       "      <th>std_score_time</th>\n",
       "      <th>std_test_score</th>\n",
       "    </tr>\n",
       "  </thead>\n",
       "  <tbody>\n",
       "    <tr>\n",
       "      <th>8</th>\n",
       "      <td>18.736860</td>\n",
       "      <td>0.299161</td>\n",
       "      <td>0.856250</td>\n",
       "      <td>90</td>\n",
       "      <td>300</td>\n",
       "      <td>{'max_depth': 90, 'n_estimators': 300}</td>\n",
       "      <td>1</td>\n",
       "      <td>0.862500</td>\n",
       "      <td>0.840625</td>\n",
       "      <td>0.865625</td>\n",
       "      <td>0.862500</td>\n",
       "      <td>0.85000</td>\n",
       "      <td>0.875567</td>\n",
       "      <td>0.042336</td>\n",
       "      <td>0.009479</td>\n",
       "    </tr>\n",
       "    <tr>\n",
       "      <th>5</th>\n",
       "      <td>16.533151</td>\n",
       "      <td>0.286207</td>\n",
       "      <td>0.851875</td>\n",
       "      <td>60</td>\n",
       "      <td>300</td>\n",
       "      <td>{'max_depth': 60, 'n_estimators': 300}</td>\n",
       "      <td>2</td>\n",
       "      <td>0.868750</td>\n",
       "      <td>0.850000</td>\n",
       "      <td>0.859375</td>\n",
       "      <td>0.843750</td>\n",
       "      <td>0.83750</td>\n",
       "      <td>0.285667</td>\n",
       "      <td>0.051170</td>\n",
       "      <td>0.011110</td>\n",
       "    </tr>\n",
       "    <tr>\n",
       "      <th>11</th>\n",
       "      <td>13.183269</td>\n",
       "      <td>0.231758</td>\n",
       "      <td>0.846250</td>\n",
       "      <td>None</td>\n",
       "      <td>300</td>\n",
       "      <td>{'max_depth': None, 'n_estimators': 300}</td>\n",
       "      <td>3</td>\n",
       "      <td>0.875000</td>\n",
       "      <td>0.834375</td>\n",
       "      <td>0.859375</td>\n",
       "      <td>0.843750</td>\n",
       "      <td>0.81875</td>\n",
       "      <td>0.164029</td>\n",
       "      <td>0.018320</td>\n",
       "      <td>0.019506</td>\n",
       "    </tr>\n",
       "    <tr>\n",
       "      <th>10</th>\n",
       "      <td>8.774943</td>\n",
       "      <td>0.213270</td>\n",
       "      <td>0.844375</td>\n",
       "      <td>None</td>\n",
       "      <td>150</td>\n",
       "      <td>{'max_depth': None, 'n_estimators': 150}</td>\n",
       "      <td>4</td>\n",
       "      <td>0.868750</td>\n",
       "      <td>0.840625</td>\n",
       "      <td>0.843750</td>\n",
       "      <td>0.843750</td>\n",
       "      <td>0.82500</td>\n",
       "      <td>1.131184</td>\n",
       "      <td>0.029238</td>\n",
       "      <td>0.014031</td>\n",
       "    </tr>\n",
       "    <tr>\n",
       "      <th>2</th>\n",
       "      <td>14.342194</td>\n",
       "      <td>0.314898</td>\n",
       "      <td>0.838125</td>\n",
       "      <td>30</td>\n",
       "      <td>300</td>\n",
       "      <td>{'max_depth': 30, 'n_estimators': 300}</td>\n",
       "      <td>5</td>\n",
       "      <td>0.859375</td>\n",
       "      <td>0.840625</td>\n",
       "      <td>0.843750</td>\n",
       "      <td>0.828125</td>\n",
       "      <td>0.81875</td>\n",
       "      <td>0.652855</td>\n",
       "      <td>0.062199</td>\n",
       "      <td>0.013891</td>\n",
       "    </tr>\n",
       "  </tbody>\n",
       "</table>\n",
       "</div>"
      ],
      "text/plain": [
       "    mean_fit_time  mean_score_time  mean_test_score param_max_depth  \\\n",
       "8       18.736860         0.299161         0.856250              90   \n",
       "5       16.533151         0.286207         0.851875              60   \n",
       "11      13.183269         0.231758         0.846250            None   \n",
       "10       8.774943         0.213270         0.844375            None   \n",
       "2       14.342194         0.314898         0.838125              30   \n",
       "\n",
       "   param_n_estimators                                    params  \\\n",
       "8                 300    {'max_depth': 90, 'n_estimators': 300}   \n",
       "5                 300    {'max_depth': 60, 'n_estimators': 300}   \n",
       "11                300  {'max_depth': None, 'n_estimators': 300}   \n",
       "10                150  {'max_depth': None, 'n_estimators': 150}   \n",
       "2                 300    {'max_depth': 30, 'n_estimators': 300}   \n",
       "\n",
       "    rank_test_score  split0_test_score  split1_test_score  split2_test_score  \\\n",
       "8                 1           0.862500           0.840625           0.865625   \n",
       "5                 2           0.868750           0.850000           0.859375   \n",
       "11                3           0.875000           0.834375           0.859375   \n",
       "10                4           0.868750           0.840625           0.843750   \n",
       "2                 5           0.859375           0.840625           0.843750   \n",
       "\n",
       "    split3_test_score  split4_test_score  std_fit_time  std_score_time  \\\n",
       "8            0.862500            0.85000      0.875567        0.042336   \n",
       "5            0.843750            0.83750      0.285667        0.051170   \n",
       "11           0.843750            0.81875      0.164029        0.018320   \n",
       "10           0.843750            0.82500      1.131184        0.029238   \n",
       "2            0.828125            0.81875      0.652855        0.062199   \n",
       "\n",
       "    std_test_score  \n",
       "8         0.009479  \n",
       "5         0.011110  \n",
       "11        0.019506  \n",
       "10        0.014031  \n",
       "2         0.013891  "
      ]
     },
     "execution_count": 78,
     "metadata": {},
     "output_type": "execute_result"
    }
   ],
   "source": [
    "# Results for the TfidfVectorizer\n",
    "\n",
    "rf = RandomForestClassifier()\n",
    "param = {'n_estimators': [10, 150, 300],\n",
    "        'max_depth': [30, 60, 90, None]}\n",
    "\n",
    "gs = GridSearchCV(rf, param, cv=5, n_jobs=-1)\n",
    "gs_fit = gs.fit(X_features, Job_posting['deceptive'])\n",
    "pd.DataFrame(gs_fit.cv_results_).sort_values('mean_test_score', ascending=False)[0:5]"
   ]
  },
  {
   "cell_type": "code",
   "execution_count": 79,
   "metadata": {},
   "outputs": [
    {
     "data": {
      "text/html": [
       "<div>\n",
       "<style scoped>\n",
       "    .dataframe tbody tr th:only-of-type {\n",
       "        vertical-align: middle;\n",
       "    }\n",
       "\n",
       "    .dataframe tbody tr th {\n",
       "        vertical-align: top;\n",
       "    }\n",
       "\n",
       "    .dataframe thead th {\n",
       "        text-align: right;\n",
       "    }\n",
       "</style>\n",
       "<table border=\"1\" class=\"dataframe\">\n",
       "  <thead>\n",
       "    <tr style=\"text-align: right;\">\n",
       "      <th></th>\n",
       "      <th>body_len</th>\n",
       "      <th>punct%</th>\n",
       "      <th>0</th>\n",
       "      <th>1</th>\n",
       "      <th>2</th>\n",
       "      <th>3</th>\n",
       "      <th>4</th>\n",
       "      <th>5</th>\n",
       "      <th>6</th>\n",
       "      <th>7</th>\n",
       "      <th>...</th>\n",
       "      <th>7645</th>\n",
       "      <th>7646</th>\n",
       "      <th>7647</th>\n",
       "      <th>7648</th>\n",
       "      <th>7649</th>\n",
       "      <th>7650</th>\n",
       "      <th>7651</th>\n",
       "      <th>7652</th>\n",
       "      <th>7653</th>\n",
       "      <th>7654</th>\n",
       "    </tr>\n",
       "  </thead>\n",
       "  <tbody>\n",
       "    <tr>\n",
       "      <th>0</th>\n",
       "      <td>3.418719</td>\n",
       "      <td>3.9</td>\n",
       "      <td>1</td>\n",
       "      <td>0</td>\n",
       "      <td>0</td>\n",
       "      <td>0</td>\n",
       "      <td>0</td>\n",
       "      <td>0</td>\n",
       "      <td>0</td>\n",
       "      <td>0</td>\n",
       "      <td>...</td>\n",
       "      <td>0</td>\n",
       "      <td>0</td>\n",
       "      <td>0</td>\n",
       "      <td>0</td>\n",
       "      <td>0</td>\n",
       "      <td>0</td>\n",
       "      <td>0</td>\n",
       "      <td>0</td>\n",
       "      <td>0</td>\n",
       "      <td>0</td>\n",
       "    </tr>\n",
       "    <tr>\n",
       "      <th>1</th>\n",
       "      <td>2.995045</td>\n",
       "      <td>4.6</td>\n",
       "      <td>1</td>\n",
       "      <td>0</td>\n",
       "      <td>0</td>\n",
       "      <td>0</td>\n",
       "      <td>0</td>\n",
       "      <td>0</td>\n",
       "      <td>0</td>\n",
       "      <td>0</td>\n",
       "      <td>...</td>\n",
       "      <td>0</td>\n",
       "      <td>0</td>\n",
       "      <td>0</td>\n",
       "      <td>0</td>\n",
       "      <td>0</td>\n",
       "      <td>0</td>\n",
       "      <td>0</td>\n",
       "      <td>0</td>\n",
       "      <td>0</td>\n",
       "      <td>0</td>\n",
       "    </tr>\n",
       "    <tr>\n",
       "      <th>2</th>\n",
       "      <td>3.895458</td>\n",
       "      <td>3.1</td>\n",
       "      <td>1</td>\n",
       "      <td>0</td>\n",
       "      <td>0</td>\n",
       "      <td>0</td>\n",
       "      <td>0</td>\n",
       "      <td>0</td>\n",
       "      <td>0</td>\n",
       "      <td>0</td>\n",
       "      <td>...</td>\n",
       "      <td>0</td>\n",
       "      <td>0</td>\n",
       "      <td>0</td>\n",
       "      <td>0</td>\n",
       "      <td>0</td>\n",
       "      <td>0</td>\n",
       "      <td>0</td>\n",
       "      <td>0</td>\n",
       "      <td>0</td>\n",
       "      <td>0</td>\n",
       "    </tr>\n",
       "    <tr>\n",
       "      <th>3</th>\n",
       "      <td>3.570143</td>\n",
       "      <td>2.9</td>\n",
       "      <td>1</td>\n",
       "      <td>0</td>\n",
       "      <td>0</td>\n",
       "      <td>0</td>\n",
       "      <td>0</td>\n",
       "      <td>0</td>\n",
       "      <td>0</td>\n",
       "      <td>0</td>\n",
       "      <td>...</td>\n",
       "      <td>0</td>\n",
       "      <td>0</td>\n",
       "      <td>0</td>\n",
       "      <td>0</td>\n",
       "      <td>0</td>\n",
       "      <td>0</td>\n",
       "      <td>0</td>\n",
       "      <td>0</td>\n",
       "      <td>0</td>\n",
       "      <td>0</td>\n",
       "    </tr>\n",
       "    <tr>\n",
       "      <th>4</th>\n",
       "      <td>3.153777</td>\n",
       "      <td>2.2</td>\n",
       "      <td>1</td>\n",
       "      <td>0</td>\n",
       "      <td>0</td>\n",
       "      <td>0</td>\n",
       "      <td>0</td>\n",
       "      <td>0</td>\n",
       "      <td>0</td>\n",
       "      <td>0</td>\n",
       "      <td>...</td>\n",
       "      <td>0</td>\n",
       "      <td>0</td>\n",
       "      <td>0</td>\n",
       "      <td>0</td>\n",
       "      <td>0</td>\n",
       "      <td>0</td>\n",
       "      <td>0</td>\n",
       "      <td>0</td>\n",
       "      <td>0</td>\n",
       "      <td>0</td>\n",
       "    </tr>\n",
       "  </tbody>\n",
       "</table>\n",
       "<p>5 rows × 7657 columns</p>\n",
       "</div>"
      ],
      "text/plain": [
       "   body_len  punct%  0  1  2  3  4  5  6  7  ...   7645  7646  7647  7648  \\\n",
       "0  3.418719     3.9  1  0  0  0  0  0  0  0  ...      0     0     0     0   \n",
       "1  2.995045     4.6  1  0  0  0  0  0  0  0  ...      0     0     0     0   \n",
       "2  3.895458     3.1  1  0  0  0  0  0  0  0  ...      0     0     0     0   \n",
       "3  3.570143     2.9  1  0  0  0  0  0  0  0  ...      0     0     0     0   \n",
       "4  3.153777     2.2  1  0  0  0  0  0  0  0  ...      0     0     0     0   \n",
       "\n",
       "   7649  7650  7651  7652  7653  7654  \n",
       "0     0     0     0     0     0     0  \n",
       "1     0     0     0     0     0     0  \n",
       "2     0     0     0     0     0     0  \n",
       "3     0     0     0     0     0     0  \n",
       "4     0     0     0     0     0     0  \n",
       "\n",
       "[5 rows x 7657 columns]"
      ]
     },
     "execution_count": 79,
     "metadata": {},
     "output_type": "execute_result"
    }
   ],
   "source": [
    "# obtaing CountVectorizer\n",
    "count_vect = CountVectorizer(analyzer=text_clean)\n",
    "X_count = count_vect.fit_transform(Job_posting['text'])\n",
    "X_count_feat = pd.concat([Job_posting['body_len'], Job_posting['punct%'], pd.DataFrame(X_count.toarray())], axis=1)\n",
    "\n",
    "X_count_feat.head()"
   ]
  },
  {
   "cell_type": "code",
   "execution_count": 49,
   "metadata": {},
   "outputs": [
    {
     "name": "stderr",
     "output_type": "stream",
     "text": [
      "C:\\Users\\fatma\\Anaconda3\\lib\\site-packages\\sklearn\\model_selection\\_split.py:672: UserWarning: The least populated class in y has only 1 members, which is less than n_splits=2.\n",
      "  % (min_groups, self.n_splits)), UserWarning)\n"
     ]
    },
    {
     "data": {
      "text/html": [
       "<div>\n",
       "<style scoped>\n",
       "    .dataframe tbody tr th:only-of-type {\n",
       "        vertical-align: middle;\n",
       "    }\n",
       "\n",
       "    .dataframe tbody tr th {\n",
       "        vertical-align: top;\n",
       "    }\n",
       "\n",
       "    .dataframe thead th {\n",
       "        text-align: right;\n",
       "    }\n",
       "</style>\n",
       "<table border=\"1\" class=\"dataframe\">\n",
       "  <thead>\n",
       "    <tr style=\"text-align: right;\">\n",
       "      <th></th>\n",
       "      <th>mean_fit_time</th>\n",
       "      <th>mean_score_time</th>\n",
       "      <th>mean_test_score</th>\n",
       "      <th>param_max_depth</th>\n",
       "      <th>param_n_estimators</th>\n",
       "      <th>params</th>\n",
       "      <th>rank_test_score</th>\n",
       "      <th>split0_test_score</th>\n",
       "      <th>split1_test_score</th>\n",
       "      <th>std_fit_time</th>\n",
       "      <th>std_score_time</th>\n",
       "      <th>std_test_score</th>\n",
       "    </tr>\n",
       "  </thead>\n",
       "  <tbody>\n",
       "    <tr>\n",
       "      <th>1</th>\n",
       "      <td>4.471232</td>\n",
       "      <td>2.234938</td>\n",
       "      <td>0.005</td>\n",
       "      <td>30</td>\n",
       "      <td>150</td>\n",
       "      <td>{'max_depth': 30, 'n_estimators': 150}</td>\n",
       "      <td>1</td>\n",
       "      <td>0.005</td>\n",
       "      <td>0.005</td>\n",
       "      <td>0.018871</td>\n",
       "      <td>0.025515</td>\n",
       "      <td>0.0</td>\n",
       "    </tr>\n",
       "    <tr>\n",
       "      <th>2</th>\n",
       "      <td>10.550625</td>\n",
       "      <td>7.019731</td>\n",
       "      <td>0.005</td>\n",
       "      <td>30</td>\n",
       "      <td>300</td>\n",
       "      <td>{'max_depth': 30, 'n_estimators': 300}</td>\n",
       "      <td>1</td>\n",
       "      <td>0.005</td>\n",
       "      <td>0.005</td>\n",
       "      <td>0.544037</td>\n",
       "      <td>0.889954</td>\n",
       "      <td>0.0</td>\n",
       "    </tr>\n",
       "    <tr>\n",
       "      <th>4</th>\n",
       "      <td>9.107897</td>\n",
       "      <td>4.041731</td>\n",
       "      <td>0.005</td>\n",
       "      <td>60</td>\n",
       "      <td>150</td>\n",
       "      <td>{'max_depth': 60, 'n_estimators': 150}</td>\n",
       "      <td>1</td>\n",
       "      <td>0.005</td>\n",
       "      <td>0.005</td>\n",
       "      <td>0.874712</td>\n",
       "      <td>0.196094</td>\n",
       "      <td>0.0</td>\n",
       "    </tr>\n",
       "    <tr>\n",
       "      <th>5</th>\n",
       "      <td>18.521316</td>\n",
       "      <td>5.802092</td>\n",
       "      <td>0.005</td>\n",
       "      <td>60</td>\n",
       "      <td>300</td>\n",
       "      <td>{'max_depth': 60, 'n_estimators': 300}</td>\n",
       "      <td>1</td>\n",
       "      <td>0.005</td>\n",
       "      <td>0.005</td>\n",
       "      <td>1.120084</td>\n",
       "      <td>0.521413</td>\n",
       "      <td>0.0</td>\n",
       "    </tr>\n",
       "    <tr>\n",
       "      <th>7</th>\n",
       "      <td>13.748563</td>\n",
       "      <td>3.170586</td>\n",
       "      <td>0.005</td>\n",
       "      <td>90</td>\n",
       "      <td>150</td>\n",
       "      <td>{'max_depth': 90, 'n_estimators': 150}</td>\n",
       "      <td>1</td>\n",
       "      <td>0.005</td>\n",
       "      <td>0.005</td>\n",
       "      <td>0.712648</td>\n",
       "      <td>0.022648</td>\n",
       "      <td>0.0</td>\n",
       "    </tr>\n",
       "  </tbody>\n",
       "</table>\n",
       "</div>"
      ],
      "text/plain": [
       "   mean_fit_time  mean_score_time  mean_test_score param_max_depth  \\\n",
       "1       4.471232         2.234938            0.005              30   \n",
       "2      10.550625         7.019731            0.005              30   \n",
       "4       9.107897         4.041731            0.005              60   \n",
       "5      18.521316         5.802092            0.005              60   \n",
       "7      13.748563         3.170586            0.005              90   \n",
       "\n",
       "  param_n_estimators                                  params  rank_test_score  \\\n",
       "1                150  {'max_depth': 30, 'n_estimators': 150}                1   \n",
       "2                300  {'max_depth': 30, 'n_estimators': 300}                1   \n",
       "4                150  {'max_depth': 60, 'n_estimators': 150}                1   \n",
       "5                300  {'max_depth': 60, 'n_estimators': 300}                1   \n",
       "7                150  {'max_depth': 90, 'n_estimators': 150}                1   \n",
       "\n",
       "   split0_test_score  split1_test_score  std_fit_time  std_score_time  \\\n",
       "1              0.005              0.005      0.018871        0.025515   \n",
       "2              0.005              0.005      0.544037        0.889954   \n",
       "4              0.005              0.005      0.874712        0.196094   \n",
       "5              0.005              0.005      1.120084        0.521413   \n",
       "7              0.005              0.005      0.712648        0.022648   \n",
       "\n",
       "   std_test_score  \n",
       "1             0.0  \n",
       "2             0.0  \n",
       "4             0.0  \n",
       "5             0.0  \n",
       "7             0.0  "
      ]
     },
     "execution_count": 49,
     "metadata": {},
     "output_type": "execute_result"
    }
   ],
   "source": [
    "# Results for the CountVectorizer\n",
    "\n",
    "rf = RandomForestClassifier()\n",
    "param = {'n_estimators': [10, 150, 300],\n",
    "        'max_depth': [30, 60, 90, None]}\n",
    "\n",
    "gs = GridSearchCV(rf, param, cv=2, n_jobs=-1)\n",
    "gs_fit = gs.fit(X_count_feat, Job_posting['text'])\n",
    "pd.DataFrame(gs_fit.cv_results_).sort_values('mean_test_score', ascending=False)[0:5]"
   ]
  },
  {
   "cell_type": "markdown",
   "metadata": {},
   "source": [
    "### Duplicating the tests using GradientBoostingClassifier"
   ]
  },
  {
   "cell_type": "code",
   "execution_count": 80,
   "metadata": {
    "collapsed": true
   },
   "outputs": [],
   "source": [
    "# Using GB and Grid seach to obtain the tree with the least performace \n",
    "def train_GB(est, max_depth, lr):\n",
    "    gb = GradientBoostingClassifier(n_estimators=est, max_depth=max_depth, learning_rate=lr)\n",
    "    gb_model = gb.fit(X_train, y_train)\n",
    "    y_pred = gb_model.predict(X_test)\n",
    "    precision, recall, fscore, train_support = score(y_test, y_pred, pos_label='deceptive', average='binary')\n",
    "    print('Est: {} / Depth: {} / LR: {} ---- Precision: {} / Recall: {} / Accuracy: {}'.format(\n",
    "        est, max_depth, lr, round(precision, 3), round(recall, 3), \n",
    "        round((y_pred==y_test).sum()/len(y_pred), 3)))"
   ]
  },
  {
   "cell_type": "code",
   "execution_count": 81,
   "metadata": {},
   "outputs": [
    {
     "name": "stdout",
     "output_type": "stream",
     "text": [
      "Est: 50 / Depth: 3 / LR: 0.01 ---- Precision: 0.788 / Recall: 0.73 / Accuracy: 0.741\n",
      "Est: 50 / Depth: 3 / LR: 0.1 ---- Precision: 0.839 / Recall: 0.792 / Accuracy: 0.8\n",
      "Est: 50 / Depth: 3 / LR: 1 ---- Precision: 0.83 / Recall: 0.848 / Accuracy: 0.819\n",
      "Est: 50 / Depth: 7 / LR: 0.01 ---- Precision: 0.762 / Recall: 0.736 / Accuracy: 0.725\n",
      "Est: 50 / Depth: 7 / LR: 0.1 ---- Precision: 0.855 / Recall: 0.826 / Accuracy: 0.825\n",
      "Est: 50 / Depth: 7 / LR: 1 ---- Precision: 0.843 / Recall: 0.843 / Accuracy: 0.825\n",
      "Est: 50 / Depth: 11 / LR: 0.01 ---- Precision: 0.742 / Recall: 0.758 / Accuracy: 0.719\n",
      "Est: 50 / Depth: 11 / LR: 0.1 ---- Precision: 0.804 / Recall: 0.809 / Accuracy: 0.784\n",
      "Est: 50 / Depth: 11 / LR: 1 ---- Precision: 0.854 / Recall: 0.82 / Accuracy: 0.822\n",
      "Est: 50 / Depth: 15 / LR: 0.01 ---- Precision: 0.741 / Recall: 0.77 / Accuracy: 0.722\n",
      "Est: 50 / Depth: 15 / LR: 0.1 ---- Precision: 0.77 / Recall: 0.792 / Accuracy: 0.753\n",
      "Est: 50 / Depth: 15 / LR: 1 ---- Precision: 0.831 / Recall: 0.803 / Accuracy: 0.8\n",
      "Est: 100 / Depth: 3 / LR: 0.01 ---- Precision: 0.796 / Recall: 0.809 / Accuracy: 0.778\n",
      "Est: 100 / Depth: 3 / LR: 0.1 ---- Precision: 0.836 / Recall: 0.831 / Accuracy: 0.816\n",
      "Est: 100 / Depth: 3 / LR: 1 ---- Precision: 0.852 / Recall: 0.809 / Accuracy: 0.816\n",
      "Est: 100 / Depth: 7 / LR: 0.01 ---- Precision: 0.773 / Recall: 0.787 / Accuracy: 0.753\n",
      "Est: 100 / Depth: 7 / LR: 0.1 ---- Precision: 0.851 / Recall: 0.831 / Accuracy: 0.825\n",
      "Est: 100 / Depth: 7 / LR: 1 ---- Precision: 0.864 / Recall: 0.82 / Accuracy: 0.828\n",
      "Est: 100 / Depth: 11 / LR: 0.01 ---- Precision: 0.753 / Recall: 0.736 / Accuracy: 0.719\n",
      "Est: 100 / Depth: 11 / LR: 0.1 ---- Precision: 0.852 / Recall: 0.843 / Accuracy: 0.831\n",
      "Est: 100 / Depth: 11 / LR: 1 ---- Precision: 0.883 / Recall: 0.848 / Accuracy: 0.853\n",
      "Est: 100 / Depth: 15 / LR: 0.01 ---- Precision: 0.746 / Recall: 0.775 / Accuracy: 0.728\n",
      "Est: 100 / Depth: 15 / LR: 0.1 ---- Precision: 0.821 / Recall: 0.798 / Accuracy: 0.791\n",
      "Est: 100 / Depth: 15 / LR: 1 ---- Precision: 0.877 / Recall: 0.843 / Accuracy: 0.847\n",
      "Est: 150 / Depth: 3 / LR: 0.01 ---- Precision: 0.792 / Recall: 0.815 / Accuracy: 0.778\n",
      "Est: 150 / Depth: 3 / LR: 0.1 ---- Precision: 0.845 / Recall: 0.86 / Accuracy: 0.834\n",
      "Est: 150 / Depth: 3 / LR: 1 ---- Precision: 0.839 / Recall: 0.848 / Accuracy: 0.825\n",
      "Est: 150 / Depth: 7 / LR: 0.01 ---- Precision: 0.786 / Recall: 0.803 / Accuracy: 0.769\n",
      "Est: 150 / Depth: 7 / LR: 0.1 ---- Precision: 0.871 / Recall: 0.831 / Accuracy: 0.838\n",
      "Est: 150 / Depth: 7 / LR: 1 ---- Precision: 0.867 / Recall: 0.876 / Accuracy: 0.856\n",
      "Est: 150 / Depth: 11 / LR: 0.01 ---- Precision: 0.772 / Recall: 0.742 / Accuracy: 0.734\n",
      "Est: 150 / Depth: 11 / LR: 0.1 ---- Precision: 0.861 / Recall: 0.837 / Accuracy: 0.834\n",
      "Est: 150 / Depth: 11 / LR: 1 ---- Precision: 0.876 / Recall: 0.871 / Accuracy: 0.859\n",
      "Est: 150 / Depth: 15 / LR: 0.01 ---- Precision: 0.749 / Recall: 0.77 / Accuracy: 0.728\n",
      "Est: 150 / Depth: 15 / LR: 0.1 ---- Precision: 0.838 / Recall: 0.815 / Accuracy: 0.809\n",
      "Est: 150 / Depth: 15 / LR: 1 ---- Precision: 0.897 / Recall: 0.876 / Accuracy: 0.875\n"
     ]
    }
   ],
   "source": [
    "for n_est in [50, 100, 150]:\n",
    "    for max_depth in [3, 7, 11, 15]:\n",
    "        for lr in [0.01, 0.1, 1]:\n",
    "            train_GB(n_est, max_depth, lr)"
   ]
  },
  {
   "cell_type": "markdown",
   "metadata": {},
   "source": [
    "### Final comparsion of TfidfVectorizer in RF and GB To select the best model"
   ]
  },
  {
   "cell_type": "markdown",
   "metadata": {},
   "source": [
    "###Vectorizing on only the traning set not the entire set"
   ]
  },
  {
   "cell_type": "code",
   "execution_count": 82,
   "metadata": {
    "collapsed": true
   },
   "outputs": [],
   "source": [
    "X_train, X_test, y_train, y_test = train_test_split(Job_posting[['text', 'body_len', 'punct%']], Job_posting['deceptive'], test_size=0.2)"
   ]
  },
  {
   "cell_type": "code",
   "execution_count": 83,
   "metadata": {},
   "outputs": [
    {
     "data": {
      "text/html": [
       "<div>\n",
       "<style scoped>\n",
       "    .dataframe tbody tr th:only-of-type {\n",
       "        vertical-align: middle;\n",
       "    }\n",
       "\n",
       "    .dataframe tbody tr th {\n",
       "        vertical-align: top;\n",
       "    }\n",
       "\n",
       "    .dataframe thead th {\n",
       "        text-align: right;\n",
       "    }\n",
       "</style>\n",
       "<table border=\"1\" class=\"dataframe\">\n",
       "  <thead>\n",
       "    <tr style=\"text-align: right;\">\n",
       "      <th></th>\n",
       "      <th>body_len</th>\n",
       "      <th>punct%</th>\n",
       "      <th>0</th>\n",
       "      <th>1</th>\n",
       "      <th>2</th>\n",
       "      <th>3</th>\n",
       "      <th>4</th>\n",
       "      <th>5</th>\n",
       "      <th>6</th>\n",
       "      <th>7</th>\n",
       "      <th>...</th>\n",
       "      <th>6837</th>\n",
       "      <th>6838</th>\n",
       "      <th>6839</th>\n",
       "      <th>6840</th>\n",
       "      <th>6841</th>\n",
       "      <th>6842</th>\n",
       "      <th>6843</th>\n",
       "      <th>6844</th>\n",
       "      <th>6845</th>\n",
       "      <th>6846</th>\n",
       "    </tr>\n",
       "  </thead>\n",
       "  <tbody>\n",
       "    <tr>\n",
       "      <th>0</th>\n",
       "      <td>3.110130</td>\n",
       "      <td>1.7</td>\n",
       "      <td>0.046302</td>\n",
       "      <td>0.0</td>\n",
       "      <td>0.0</td>\n",
       "      <td>0.0</td>\n",
       "      <td>0.0</td>\n",
       "      <td>0.0</td>\n",
       "      <td>0.0</td>\n",
       "      <td>0.0</td>\n",
       "      <td>...</td>\n",
       "      <td>0.0</td>\n",
       "      <td>0.0</td>\n",
       "      <td>0.0</td>\n",
       "      <td>0.0</td>\n",
       "      <td>0.0</td>\n",
       "      <td>0.0</td>\n",
       "      <td>0.0</td>\n",
       "      <td>0.0</td>\n",
       "      <td>0.0</td>\n",
       "      <td>0.0</td>\n",
       "    </tr>\n",
       "    <tr>\n",
       "      <th>1</th>\n",
       "      <td>3.924551</td>\n",
       "      <td>4.6</td>\n",
       "      <td>0.019520</td>\n",
       "      <td>0.0</td>\n",
       "      <td>0.0</td>\n",
       "      <td>0.0</td>\n",
       "      <td>0.0</td>\n",
       "      <td>0.0</td>\n",
       "      <td>0.0</td>\n",
       "      <td>0.0</td>\n",
       "      <td>...</td>\n",
       "      <td>0.0</td>\n",
       "      <td>0.0</td>\n",
       "      <td>0.0</td>\n",
       "      <td>0.0</td>\n",
       "      <td>0.0</td>\n",
       "      <td>0.0</td>\n",
       "      <td>0.0</td>\n",
       "      <td>0.0</td>\n",
       "      <td>0.0</td>\n",
       "      <td>0.0</td>\n",
       "    </tr>\n",
       "    <tr>\n",
       "      <th>2</th>\n",
       "      <td>3.507671</td>\n",
       "      <td>3.6</td>\n",
       "      <td>0.027588</td>\n",
       "      <td>0.0</td>\n",
       "      <td>0.0</td>\n",
       "      <td>0.0</td>\n",
       "      <td>0.0</td>\n",
       "      <td>0.0</td>\n",
       "      <td>0.0</td>\n",
       "      <td>0.0</td>\n",
       "      <td>...</td>\n",
       "      <td>0.0</td>\n",
       "      <td>0.0</td>\n",
       "      <td>0.0</td>\n",
       "      <td>0.0</td>\n",
       "      <td>0.0</td>\n",
       "      <td>0.0</td>\n",
       "      <td>0.0</td>\n",
       "      <td>0.0</td>\n",
       "      <td>0.0</td>\n",
       "      <td>0.0</td>\n",
       "    </tr>\n",
       "    <tr>\n",
       "      <th>3</th>\n",
       "      <td>3.693102</td>\n",
       "      <td>4.2</td>\n",
       "      <td>0.025795</td>\n",
       "      <td>0.0</td>\n",
       "      <td>0.0</td>\n",
       "      <td>0.0</td>\n",
       "      <td>0.0</td>\n",
       "      <td>0.0</td>\n",
       "      <td>0.0</td>\n",
       "      <td>0.0</td>\n",
       "      <td>...</td>\n",
       "      <td>0.0</td>\n",
       "      <td>0.0</td>\n",
       "      <td>0.0</td>\n",
       "      <td>0.0</td>\n",
       "      <td>0.0</td>\n",
       "      <td>0.0</td>\n",
       "      <td>0.0</td>\n",
       "      <td>0.0</td>\n",
       "      <td>0.0</td>\n",
       "      <td>0.0</td>\n",
       "    </tr>\n",
       "    <tr>\n",
       "      <th>4</th>\n",
       "      <td>3.568911</td>\n",
       "      <td>3.3</td>\n",
       "      <td>0.030674</td>\n",
       "      <td>0.0</td>\n",
       "      <td>0.0</td>\n",
       "      <td>0.0</td>\n",
       "      <td>0.0</td>\n",
       "      <td>0.0</td>\n",
       "      <td>0.0</td>\n",
       "      <td>0.0</td>\n",
       "      <td>...</td>\n",
       "      <td>0.0</td>\n",
       "      <td>0.0</td>\n",
       "      <td>0.0</td>\n",
       "      <td>0.0</td>\n",
       "      <td>0.0</td>\n",
       "      <td>0.0</td>\n",
       "      <td>0.0</td>\n",
       "      <td>0.0</td>\n",
       "      <td>0.0</td>\n",
       "      <td>0.0</td>\n",
       "    </tr>\n",
       "  </tbody>\n",
       "</table>\n",
       "<p>5 rows × 6849 columns</p>\n",
       "</div>"
      ],
      "text/plain": [
       "   body_len  punct%         0    1    2    3    4    5    6    7  ...   6837  \\\n",
       "0  3.110130     1.7  0.046302  0.0  0.0  0.0  0.0  0.0  0.0  0.0  ...    0.0   \n",
       "1  3.924551     4.6  0.019520  0.0  0.0  0.0  0.0  0.0  0.0  0.0  ...    0.0   \n",
       "2  3.507671     3.6  0.027588  0.0  0.0  0.0  0.0  0.0  0.0  0.0  ...    0.0   \n",
       "3  3.693102     4.2  0.025795  0.0  0.0  0.0  0.0  0.0  0.0  0.0  ...    0.0   \n",
       "4  3.568911     3.3  0.030674  0.0  0.0  0.0  0.0  0.0  0.0  0.0  ...    0.0   \n",
       "\n",
       "   6838  6839  6840  6841  6842  6843  6844  6845  6846  \n",
       "0   0.0   0.0   0.0   0.0   0.0   0.0   0.0   0.0   0.0  \n",
       "1   0.0   0.0   0.0   0.0   0.0   0.0   0.0   0.0   0.0  \n",
       "2   0.0   0.0   0.0   0.0   0.0   0.0   0.0   0.0   0.0  \n",
       "3   0.0   0.0   0.0   0.0   0.0   0.0   0.0   0.0   0.0  \n",
       "4   0.0   0.0   0.0   0.0   0.0   0.0   0.0   0.0   0.0  \n",
       "\n",
       "[5 rows x 6849 columns]"
      ]
     },
     "execution_count": 83,
     "metadata": {},
     "output_type": "execute_result"
    }
   ],
   "source": [
    "tfidf_vect = TfidfVectorizer(analyzer=text_clean)\n",
    "tfidf_vect_fit = tfidf_vect.fit(X_train['text'])\n",
    "\n",
    "tfidf_train = tfidf_vect_fit.transform(X_train['text'])\n",
    "tfidf_test = tfidf_vect_fit.transform(X_test['text'])\n",
    "\n",
    "X_train_vect = pd.concat([X_train[['body_len', 'punct%']].reset_index(drop=True), \n",
    "           pd.DataFrame(tfidf_train.toarray())], axis=1)\n",
    "X_test_vect = pd.concat([X_test[['body_len', 'punct%']].reset_index(drop=True), \n",
    "           pd.DataFrame(tfidf_test.toarray())], axis=1)\n",
    "\n",
    "X_train_vect.head()"
   ]
  },
  {
   "cell_type": "markdown",
   "metadata": {},
   "source": [
    "### Evaluating RF vs GB\n"
   ]
  },
  {
   "cell_type": "code",
   "execution_count": 88,
   "metadata": {},
   "outputs": [
    {
     "name": "stdout",
     "output_type": "stream",
     "text": [
      "Fit time: 0.565 / Predict time: 0.187 ---- Precision: 0.857 / Recall: 0.862 / Accuracy: 0.859\n"
     ]
    }
   ],
   "source": [
    "import time\n",
    "rf = RandomForestClassifier(n_estimators=150, max_depth=10, n_jobs=-1)\n",
    "\n",
    "start = time.time()\n",
    "rf_model = rf.fit(X_train_vect, y_train)\n",
    "end = time.time()\n",
    "fit_time = (end - start)\n",
    "\n",
    "start = time.time()\n",
    "y_pred = rf_model.predict(X_test_vect)\n",
    "end = time.time()\n",
    "pred_time = (end - start)\n",
    "\n",
    "precision, recall, fscore, train_support = score(y_test, y_pred, pos_label='deceptive', average='binary')\n",
    "print('Fit time: {} / Predict time: {} ---- Precision: {} / Recall: {} / Accuracy: {}'.format(\n",
    "    round(fit_time, 3), round(pred_time, 3), round(precision, 3), round(recall, 3), round((y_pred==y_test).sum()/len(y_pred), 3)))"
   ]
  },
  {
   "cell_type": "code",
   "execution_count": 91,
   "metadata": {},
   "outputs": [
    {
     "name": "stdout",
     "output_type": "stream",
     "text": [
      "Fit time: 59.576 / Predict time: 0.07 ---- Precision: 0.816 / Recall: 0.831 / Accuracy: 0.822\n"
     ]
    }
   ],
   "source": [
    "gb = GradientBoostingClassifier(n_estimators=150, max_depth=7)\n",
    "\n",
    "start = time.time()\n",
    "gb_model = gb.fit(X_train_vect, y_train)\n",
    "end = time.time()\n",
    "fit_time = (end - start)\n",
    "\n",
    "start = time.time()\n",
    "y_pred = gb_model.predict(X_test_vect)\n",
    "end = time.time()\n",
    "pred_time = (end - start)\n",
    "\n",
    "precision, recall, fscore, train_support = score(y_test, y_pred, pos_label='deceptive', average='binary')\n",
    "print('Fit time: {} / Predict time: {} ---- Precision: {} / Recall: {} / Accuracy: {}'.format(\n",
    "    round(fit_time, 3), round(pred_time, 3), round(precision, 3), round(recall, 3), round((y_pred==y_test).sum()/len(y_pred), 3)))"
   ]
  },
  {
   "cell_type": "code",
   "execution_count": null,
   "metadata": {
    "collapsed": true
   },
   "outputs": [],
   "source": [
    "# The values of n_estimators and max_depth were chosen based on the best values of accuracy obtained from the Grid search"
   ]
  },
  {
   "cell_type": "code",
   "execution_count": 92,
   "metadata": {
    "collapsed": true
   },
   "outputs": [],
   "source": [
    "# based on the reults we decide that RF is faster and produced accurate results and therefore RF with TfidfVectorizer is the best model to predict the spam job post"
   ]
  },
  {
   "cell_type": "code",
   "execution_count": null,
   "metadata": {
    "collapsed": true
   },
   "outputs": [],
   "source": []
  },
  {
   "cell_type": "code",
   "execution_count": null,
   "metadata": {
    "collapsed": true
   },
   "outputs": [],
   "source": []
  },
  {
   "cell_type": "code",
   "execution_count": null,
   "metadata": {
    "collapsed": true
   },
   "outputs": [],
   "source": []
  },
  {
   "cell_type": "code",
   "execution_count": null,
   "metadata": {
    "collapsed": true
   },
   "outputs": [],
   "source": []
  },
  {
   "cell_type": "code",
   "execution_count": null,
   "metadata": {
    "collapsed": true
   },
   "outputs": [],
   "source": []
  },
  {
   "cell_type": "code",
   "execution_count": null,
   "metadata": {
    "collapsed": true
   },
   "outputs": [],
   "source": []
  },
  {
   "cell_type": "code",
   "execution_count": null,
   "metadata": {
    "collapsed": true
   },
   "outputs": [],
   "source": []
  }
 ],
 "metadata": {
  "kernelspec": {
   "display_name": "Python 3",
   "language": "python",
   "name": "python3"
  },
  "language_info": {
   "codemirror_mode": {
    "name": "ipython",
    "version": 3
   },
   "file_extension": ".py",
   "mimetype": "text/x-python",
   "name": "python",
   "nbconvert_exporter": "python",
   "pygments_lexer": "ipython3",
   "version": "3.6.3"
  }
 },
 "nbformat": 4,
 "nbformat_minor": 2
}
